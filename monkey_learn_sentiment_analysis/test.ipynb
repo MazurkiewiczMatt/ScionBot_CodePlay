{
 "cells": [
  {
   "cell_type": "code",
   "execution_count": 3,
   "metadata": {
    "collapsed": true
   },
   "outputs": [],
   "source": [
    "from monkeylearn import MonkeyLearn\n",
    "ml = MonkeyLearn('f4bbf60d362e38d5897af58b0500519959783001')\n",
    "model_id = \"cl_pi3C7JiL\""
   ]
  },
  {
   "cell_type": "code",
   "execution_count": 4,
   "outputs": [
    {
     "name": "stdout",
     "output_type": "stream",
     "text": [
      "[{'text': 'first text', 'external_id': None, 'error': False, 'classifications': [{'tag_name': 'Neutral', 'tag_id': 122921384, 'confidence': 0.612}]}, {'text': 'second text', 'external_id': None, 'error': False, 'classifications': [{'tag_name': 'Positive', 'tag_id': 122921383, 'confidence': 0.566}]}]\n"
     ]
    }
   ],
   "source": [
    "data = [\"first text\", \"second text\"]\n",
    "response = ml.classifiers.classify(model_id, data)\n",
    "print(response.body)"
   ],
   "metadata": {
    "collapsed": false,
    "pycharm": {
     "name": "#%%\n"
    }
   }
  },
  {
   "cell_type": "code",
   "execution_count": 5,
   "outputs": [
    {
     "data": {
      "text/plain": "[{'text': 'first text',\n  'external_id': None,\n  'error': False,\n  'classifications': [{'tag_name': 'Neutral',\n    'tag_id': 122921384,\n    'confidence': 0.612}]},\n {'text': 'second text',\n  'external_id': None,\n  'error': False,\n  'classifications': [{'tag_name': 'Positive',\n    'tag_id': 122921383,\n    'confidence': 0.566}]}]"
     },
     "execution_count": 5,
     "metadata": {},
     "output_type": "execute_result"
    }
   ],
   "source": [
    "response.body"
   ],
   "metadata": {
    "collapsed": false,
    "pycharm": {
     "name": "#%%\n"
    }
   }
  },
  {
   "cell_type": "code",
   "execution_count": 2,
   "outputs": [],
   "source": [
    "def extract_classification(response_list):\n",
    "    tags, confidences = [], []\n",
    "    for text in response_list:\n",
    "        tags.append(text['classifications'][0]['tag_name'])\n",
    "        confidences.append(text['classifications'][0]['confidence'])\n",
    "\n",
    "    return tags, confidences\n"
   ],
   "metadata": {
    "collapsed": false,
    "pycharm": {
     "name": "#%%\n"
    }
   }
  },
  {
   "cell_type": "code",
   "execution_count": 6,
   "outputs": [
    {
     "data": {
      "text/plain": "(['Neutral', 'Positive'], [0.612, 0.566])"
     },
     "execution_count": 6,
     "metadata": {},
     "output_type": "execute_result"
    }
   ],
   "source": [
    "extract_classification(response.body)\n"
   ],
   "metadata": {
    "collapsed": false,
    "pycharm": {
     "name": "#%%\n"
    }
   }
  }
 ],
 "metadata": {
  "kernelspec": {
   "display_name": "Python 3",
   "language": "python",
   "name": "python3"
  },
  "language_info": {
   "codemirror_mode": {
    "name": "ipython",
    "version": 2
   },
   "file_extension": ".py",
   "mimetype": "text/x-python",
   "name": "python",
   "nbconvert_exporter": "python",
   "pygments_lexer": "ipython2",
   "version": "2.7.6"
  }
 },
 "nbformat": 4,
 "nbformat_minor": 0
}