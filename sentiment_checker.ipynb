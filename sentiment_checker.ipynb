{
 "cells": [
  {
   "cell_type": "code",
   "execution_count": 1,
   "metadata": {
    "collapsed": true
   },
   "outputs": [],
   "source": [
    "import utility\n",
    "from web_scraper import get_comments\n",
    "import pandas as pd\n",
    "import numpy\n",
    "import datetime\n",
    "from monkeylearn import MonkeyLearn\n",
    "ml = MonkeyLearn('f4bbf60d362e38d5897af58b0500519959783001')\n",
    "model_id = \"cl_pi3C7JiL\"\n",
    "\n",
    "keywords = {\"msft\": [\"msft\", \"microsoft\", \"gates\"], \"tsla\": [\"tsla\", \"tesla\", \"musk\"],\n",
    "            \"aapl\": [\"aapl\", \"apple\", \"cook\"], \"fb\": [\"fb\", \"facebook\", \"zuckerberg\"],\n",
    "            \"amzn\": [\"amzn\", \"amazon\", \"bezos\"], \"googl\": [\"googl\", \"google\", \"alphabet\", \"pichai\"]}\n",
    "\n",
    "settings_file = utility.read_settings(\"settings.txt\")\n",
    "[company, start_date, end_date, subreddits] = settings_file"
   ]
  },
  {
   "cell_type": "code",
   "execution_count": 2,
   "outputs": [
    {
     "name": "stdout",
     "output_type": "stream",
     "text": [
      "Checking algotradingon2020-10-11\n",
      "Checking dividendson2020-10-11\n",
      "Checking etoroon2020-10-11\n",
      "Checking financeon2020-10-11\n",
      "Checking forexon2020-10-11\n",
      "Checking investingon2020-10-11\n",
      "Checking optionson2020-10-11\n",
      "Checking optionsexclusiveon2020-10-11\n",
      "Checking personalfinanceon2020-10-11\n",
      "Checking robinhoodon2020-10-11\n",
      "Checking securityanalysison2020-10-11\n",
      "Checking stockmarketon2020-10-11\n",
      "Checking stockson2020-10-11\n",
      "Checking tdameritradeon2020-10-11\n",
      "Checking trading212on2020-10-11\n",
      "Checking wallstreetbetson2020-10-11\n",
      "Checking webullon2020-10-11\n",
      "Checking algotradingon2020-10-12\n",
      "Checking dividendson2020-10-12\n",
      "Checking etoroon2020-10-12\n",
      "Checking financeon2020-10-12\n",
      "Checking forexon2020-10-12\n",
      "Checking investingon2020-10-12\n",
      "Checking optionson2020-10-12\n",
      "Checking optionsexclusiveon2020-10-12\n",
      "Checking personalfinanceon2020-10-12\n",
      "Checking robinhoodon2020-10-12\n",
      "Checking securityanalysison2020-10-12\n",
      "Checking stockmarketon2020-10-12\n",
      "Checking stockson2020-10-12\n",
      "Checking tdameritradeon2020-10-12\n",
      "Checking trading212on2020-10-12\n",
      "Checking wallstreetbetson2020-10-12\n",
      "Checking webullon2020-10-12\n",
      "Checking algotradingon2020-10-13\n",
      "Checking dividendson2020-10-13\n",
      "Checking etoroon2020-10-13\n",
      "Checking financeon2020-10-13\n",
      "Checking forexon2020-10-13\n",
      "Checking investingon2020-10-13\n",
      "Checking optionson2020-10-13\n",
      "Checking optionsexclusiveon2020-10-13\n",
      "Checking personalfinanceon2020-10-13\n",
      "Checking robinhoodon2020-10-13\n",
      "Checking securityanalysison2020-10-13\n",
      "Checking stockmarketon2020-10-13\n",
      "Checking stockson2020-10-13\n",
      "Checking tdameritradeon2020-10-13\n",
      "Checking trading212on2020-10-13\n",
      "Checking wallstreetbetson2020-10-13\n",
      "Checking webullon2020-10-13\n",
      "Checking algotradingon2020-10-14\n",
      "Checking dividendson2020-10-14\n",
      "Checking etoroon2020-10-14\n",
      "Checking financeon2020-10-14\n",
      "Checking forexon2020-10-14\n",
      "Checking investingon2020-10-14\n",
      "Checking optionson2020-10-14\n",
      "Checking optionsexclusiveon2020-10-14\n",
      "Checking personalfinanceon2020-10-14\n",
      "Checking robinhoodon2020-10-14\n",
      "Checking securityanalysison2020-10-14\n",
      "Checking stockmarketon2020-10-14\n",
      "Checking stockson2020-10-14\n",
      "Checking tdameritradeon2020-10-14\n",
      "Checking trading212on2020-10-14\n",
      "Checking wallstreetbetson2020-10-14\n",
      "Checking webullon2020-10-14\n",
      "Checking algotradingon2020-10-15\n",
      "Checking dividendson2020-10-15\n",
      "Checking etoroon2020-10-15\n",
      "Checking financeon2020-10-15\n",
      "Checking forexon2020-10-15\n",
      "Checking investingon2020-10-15\n",
      "Checking optionson2020-10-15\n",
      "Checking optionsexclusiveon2020-10-15\n",
      "Checking personalfinanceon2020-10-15\n",
      "Checking robinhoodon2020-10-15\n",
      "Checking securityanalysison2020-10-15\n",
      "Checking stockmarketon2020-10-15\n",
      "Checking stockson2020-10-15\n",
      "Checking tdameritradeon2020-10-15\n",
      "Checking trading212on2020-10-15\n",
      "Checking wallstreetbetson2020-10-15\n",
      "Checking webullon2020-10-15\n"
     ]
    }
   ],
   "source": [
    "comments = pd.DataFrame()\n",
    "for single_date in utility.daterange(start_date, end_date):\n",
    "    for subreddit in subreddits:\n",
    "        print(\"Checking \" + str(subreddit) + \"on\" + str(single_date))\n",
    "        new_data = get_comments(subreddit, single_date, single_date+datetime.timedelta(days=1), keywords[company])\n",
    "        comments = comments.append(new_data)\n",
    "\n",
    "comments.to_csv(str(company) + \"_one_week_data.csv\")"
   ],
   "metadata": {
    "collapsed": false,
    "pycharm": {
     "name": "#%%\n"
    }
   }
  },
  {
   "cell_type": "code",
   "execution_count": 3,
   "outputs": [],
   "source": [
    "company_data = comments.reset_index()\n",
    "company_data = company_data.drop(columns=[\"index\"])\n",
    "data = company_data[\"Body\"].values.tolist()\n",
    "response = ml.classifiers.classify(model_id, data)"
   ],
   "metadata": {
    "collapsed": false,
    "pycharm": {
     "name": "#%%\n"
    }
   }
  },
  {
   "cell_type": "code",
   "execution_count": 4,
   "outputs": [],
   "source": [
    "tags, confidences = utility.extract_classification(response.body)\n",
    "company_data[\"Tag\"], company_data[\"Classifier\"] = tags, confidences"
   ],
   "metadata": {
    "collapsed": false,
    "pycharm": {
     "name": "#%%\n"
    }
   }
  },
  {
   "cell_type": "code",
   "execution_count": 5,
   "outputs": [
    {
     "name": "stdout",
     "output_type": "stream",
     "text": [
      "         Date  Subreddit       Tag  Classifier\n",
      "0  2020-10-11  dividends   Neutral       0.644\n",
      "1  2020-10-11      Forex  Negative       0.836\n",
      "2  2020-10-11      Forex  Negative       0.990\n",
      "3  2020-10-11      Forex  Negative       0.942\n",
      "4  2020-10-11  investing  Negative       0.917\n"
     ]
    }
   ],
   "source": [
    "result = company_data.copy()\n",
    "result = result.drop(columns=[\"ID\", \"Author\", \"Body\"])\n",
    "print(result.head())"
   ],
   "metadata": {
    "collapsed": false,
    "pycharm": {
     "name": "#%%\n"
    }
   }
  },
  {
   "cell_type": "code",
   "execution_count": 6,
   "outputs": [
    {
     "name": "stdout",
     "output_type": "stream",
     "text": [
      "         Date  Subreddit       Tag  Classifier  Dictionary_Tag\n",
      "0  2020-10-11  dividends   Neutral       0.644             0.0\n",
      "1  2020-10-11      Forex  Negative       0.836             0.0\n",
      "2  2020-10-11      Forex  Negative       0.990             0.5\n",
      "3  2020-10-11      Forex  Negative       0.942             0.0\n",
      "4  2020-10-11  investing  Negative       0.917             0.5\n"
     ]
    }
   ],
   "source": [
    "from dictionary_sentiment_analysis import vectorized_sentiment_check\n",
    "result[\"Dictionary_Tag\"] = vectorized_sentiment_check(company_data[\"Body\"])\n",
    "print(result.head())"
   ],
   "metadata": {
    "collapsed": false,
    "pycharm": {
     "name": "#%%\n"
    }
   }
  },
  {
   "cell_type": "code",
   "execution_count": 7,
   "outputs": [],
   "source": [
    "result.to_csv(\"amzn_result_one_week.csv\")"
   ],
   "metadata": {
    "collapsed": false,
    "pycharm": {
     "name": "#%%\n"
    }
   }
  }
 ],
 "metadata": {
  "kernelspec": {
   "display_name": "Python 3",
   "language": "python",
   "name": "python3"
  },
  "language_info": {
   "codemirror_mode": {
    "name": "ipython",
    "version": 2
   },
   "file_extension": ".py",
   "mimetype": "text/x-python",
   "name": "python",
   "nbconvert_exporter": "python",
   "pygments_lexer": "ipython2",
   "version": "2.7.6"
  }
 },
 "nbformat": 4,
 "nbformat_minor": 0
}