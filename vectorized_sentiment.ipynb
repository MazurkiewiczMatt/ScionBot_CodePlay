{
 "cells": [
  {
   "cell_type": "code",
   "execution_count": 1,
   "metadata": {
    "collapsed": true
   },
   "outputs": [],
   "source": [
    "import pandas as pd\n",
    "import numpy as np\n",
    "from monkeylearn import MonkeyLearn\n",
    "ml = MonkeyLearn('f4bbf60d362e38d5897af58b0500519959783001')\n",
    "model_id = \"cl_pi3C7JiL\""
   ]
  },
  {
   "cell_type": "code",
   "execution_count": 10,
   "outputs": [
    {
     "name": "stdout",
     "output_type": "stream",
     "text": [
      "         Date       ID       Author  Subreddit  \\\n",
      "0  2020-10-10  g8cnn0j    ayyysight  investing   \n",
      "1  2020-10-10  g8bj38f    HeavyG_93  investing   \n",
      "2  2020-10-10  g8bncf1  TheBigBingo  investing   \n",
      "3  2020-10-10  g8ayzkw   WittyFault  investing   \n",
      "4  2020-10-11  g8ha72h  Tomcatjones  investing   \n",
      "\n",
      "                                                Body  \n",
      "0  Here’s what I think: self driving will be ok a...  \n",
      "1  Costco is incredible in every way man. It’s ha...  \n",
      "2  Problem is a lot of the M2 supply that was cre...  \n",
      "3  BLUF:  You don't seem knowledgeable about AI t...  \n",
      "4  The parameters that affect bitcoin are much di...  \n"
     ]
    }
   ],
   "source": [
    "amzn_data = pd.read_csv(\"datasets/amzn_one_week_data.csv\", index_col= 0)\n",
    "amzn_data = amzn_data.reset_index()\n",
    "amzn_data = amzn_data.drop(columns=[\"index\"])\n",
    "print(amzn_data.head())"
   ],
   "metadata": {
    "collapsed": false,
    "pycharm": {
     "name": "#%%\n"
    }
   }
  },
  {
   "cell_type": "code",
   "execution_count": 16,
   "outputs": [],
   "source": [
    "def extract_classification(response_list):\n",
    "    tags, confidences = [], []\n",
    "    for text in response_list:\n",
    "        tags.append(text['classifications'][0]['tag_name'])\n",
    "        confidences.append(text['classifications'][0]['confidence'])\n",
    "\n",
    "    return pd.Series(tags), pd.Series(confidences)"
   ],
   "metadata": {
    "collapsed": false,
    "pycharm": {
     "name": "#%%\n"
    }
   }
  },
  {
   "cell_type": "code",
   "execution_count": 14,
   "outputs": [],
   "source": [
    "data = amzn_data[\"Body\"].values.tolist()\n",
    "response = ml.classifiers.classify(model_id, data)"
   ],
   "metadata": {
    "collapsed": false,
    "pycharm": {
     "name": "#%%\n"
    }
   }
  },
  {
   "cell_type": "code",
   "execution_count": 17,
   "outputs": [
    {
     "name": "stdout",
     "output_type": "stream",
     "text": [
      "         Date       ID       Author  Subreddit  \\\n",
      "0  2020-10-10  g8cnn0j    ayyysight  investing   \n",
      "1  2020-10-10  g8bj38f    HeavyG_93  investing   \n",
      "2  2020-10-10  g8bncf1  TheBigBingo  investing   \n",
      "3  2020-10-10  g8ayzkw   WittyFault  investing   \n",
      "4  2020-10-11  g8ha72h  Tomcatjones  investing   \n",
      "\n",
      "                                                Body       Tag  Classifier  \n",
      "0  Here’s what I think: self driving will be ok a...  Positive       0.522  \n",
      "1  Costco is incredible in every way man. It’s ha...  Positive       0.962  \n",
      "2  Problem is a lot of the M2 supply that was cre...  Negative       0.682  \n",
      "3  BLUF:  You don't seem knowledgeable about AI t...  Negative       0.832  \n",
      "4  The parameters that affect bitcoin are much di...  Negative       0.917  \n"
     ]
    }
   ],
   "source": [
    "tags, confidences = extract_classification(response.body)\n",
    "amzn_data[\"Tag\"], amzn_data[\"Classifier\"] = tags, confidences\n",
    "print(amzn_data.head())\n"
   ],
   "metadata": {
    "collapsed": false,
    "pycharm": {
     "name": "#%%\n"
    }
   }
  }
 ],
 "metadata": {
  "kernelspec": {
   "display_name": "Python 3",
   "language": "python",
   "name": "python3"
  },
  "language_info": {
   "codemirror_mode": {
    "name": "ipython",
    "version": 2
   },
   "file_extension": ".py",
   "mimetype": "text/x-python",
   "name": "python",
   "nbconvert_exporter": "python",
   "pygments_lexer": "ipython2",
   "version": "2.7.6"
  }
 },
 "nbformat": 4,
 "nbformat_minor": 0
}