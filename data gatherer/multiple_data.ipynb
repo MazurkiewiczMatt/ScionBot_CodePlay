{
 "cells": [
  {
   "cell_type": "code",
   "execution_count": 1,
   "metadata": {
    "collapsed": true
   },
   "outputs": [],
   "source": [
    "import utility\n",
    "from web_scraper import get_comments\n",
    "import pandas as pd\n",
    "import numpy\n",
    "import datetime\n"
   ]
  },
  {
   "cell_type": "code",
   "execution_count": 2,
   "outputs": [],
   "source": [
    "tickers = [\"amzn\", \"tsla\", \"msft\", \"aapl\", \"fb\", \"googl\"]\n",
    "keywords = {\"msft\": [\"msft\", \"microsoft\", \"gates\"], \"tsla\": [\"tsla\", \"tesla\", \"musk\"],\n",
    "            \"aapl\": [\"aapl\", \"apple\", \"cook\"], \"fb\": [\"fb\", \"facebook\", \"zuckerberg\"],\n",
    "            \"amzn\": [\"amzn\", \"amazon\", \"bezos\"], \"googl\": [\"googl\", \"google\", \"alphabet\", \"pichai\"]}\n",
    "settings_file = utility.read_settings(\"amazon_settings.txt\")\n",
    "start_date, end_date, subreddits = settings_file[1], settings_file[2], settings_file[3]\n"
   ],
   "metadata": {
    "collapsed": false,
    "pycharm": {
     "name": "#%%\n"
    }
   }
  },
  {
   "cell_type": "code",
   "execution_count": 3,
   "outputs": [
    {
     "name": "stdout",
     "output_type": "stream",
     "text": [
      "Checking investing\n",
      "Checking  wallstreetbets\n",
      "Checking  options\n",
      "Checking investing\n",
      "Checking  wallstreetbets\n",
      "Checking  options\n",
      "Checking investing\n",
      "Checking  wallstreetbets\n",
      "Checking  options\n",
      "Checking investing\n",
      "Checking  wallstreetbets\n",
      "Checking  options\n",
      "Checking investing\n",
      "Checking  wallstreetbets\n",
      "Checking  options\n",
      "Checking investing\n",
      "Checking  wallstreetbets\n",
      "Checking  options\n",
      "Checking investing\n",
      "Checking  wallstreetbets\n",
      "Checking  options\n",
      "Checking investing\n",
      "Checking  wallstreetbets\n",
      "Checking  options\n",
      "Checking investing\n",
      "Checking  wallstreetbets\n",
      "Checking  options\n",
      "Checking investing\n",
      "Checking  wallstreetbets\n",
      "Checking  options\n",
      "Checking investing\n",
      "Checking  wallstreetbets\n",
      "Checking  options\n",
      "Checking investing\n",
      "Checking  wallstreetbets\n",
      "Checking  options\n",
      "Checking investing\n",
      "Checking  wallstreetbets\n",
      "Checking  options\n",
      "Checking investing\n",
      "Checking  wallstreetbets\n",
      "Checking  options\n",
      "Checking investing\n",
      "Checking  wallstreetbets\n",
      "Checking  options\n",
      "Checking investing\n",
      "Checking  wallstreetbets\n",
      "Checking  options\n",
      "Checking investing\n",
      "Checking  wallstreetbets\n",
      "Checking  options\n",
      "Checking investing\n",
      "Checking  wallstreetbets\n",
      "Checking  options\n",
      "Checking investing\n",
      "Checking  wallstreetbets\n",
      "Checking  options\n",
      "Checking investing\n",
      "Checking  wallstreetbets\n",
      "Checking  options\n",
      "Checking investing\n",
      "Checking  wallstreetbets\n",
      "Checking  options\n",
      "Checking investing\n",
      "Checking  wallstreetbets\n",
      "Checking  options\n",
      "Checking investing\n",
      "Checking  wallstreetbets\n",
      "Checking  options\n",
      "Checking investing\n",
      "Checking  wallstreetbets\n",
      "Checking  options\n",
      "Checking investing\n",
      "Checking  wallstreetbets\n",
      "Checking  options\n",
      "Checking investing\n",
      "Checking  wallstreetbets\n",
      "Checking  options\n",
      "Checking investing\n",
      "Checking  wallstreetbets\n",
      "Checking  options\n",
      "Checking investing\n",
      "Checking  wallstreetbets\n",
      "Checking  options\n",
      "Checking investing\n",
      "Checking  wallstreetbets\n",
      "Checking  options\n",
      "Checking investing\n",
      "Checking  wallstreetbets\n",
      "Checking  options\n",
      "Checking investing\n",
      "Checking  wallstreetbets\n",
      "Checking  options\n",
      "Checking investing\n",
      "Checking  wallstreetbets\n",
      "Checking  options\n",
      "Checking investing\n",
      "Checking  wallstreetbets\n",
      "Checking  options\n",
      "Checking investing\n",
      "Checking  wallstreetbets\n",
      "Checking  options\n",
      "Checking investing\n",
      "Checking  wallstreetbets\n",
      "Checking  options\n",
      "Checking investing\n",
      "Checking  wallstreetbets\n",
      "Checking  options\n",
      "Checking investing\n",
      "Checking  wallstreetbets\n",
      "Checking  options\n",
      "Checking investing\n",
      "Checking  wallstreetbets\n",
      "Checking  options\n",
      "Checking investing\n",
      "Checking  wallstreetbets\n",
      "Checking  options\n",
      "Checking investing\n",
      "Checking  wallstreetbets\n",
      "Checking  options\n",
      "Checking investing\n",
      "Checking  wallstreetbets\n",
      "Checking  options\n",
      "Checking investing\n",
      "Checking  wallstreetbets\n",
      "Checking  options\n"
     ]
    }
   ],
   "source": [
    "for company in keywords:\n",
    "    comments = pd.DataFrame()\n",
    "    for single_date in utility.daterange(start_date, end_date):\n",
    "        for subreddit in subreddits:\n",
    "            print(\"Checking \" + str(subreddit))\n",
    "            new_data = get_comments(subreddit, single_date, single_date+datetime.timedelta(days=1), keywords[company])\n",
    "            comments = comments.append(new_data)\n",
    "\n",
    "    comments.to_csv(str(company) + \"_one_week_data.csv\")"
   ],
   "metadata": {
    "collapsed": false,
    "pycharm": {
     "name": "#%%\n"
    }
   }
  },
  {
   "cell_type": "code",
   "execution_count": null,
   "outputs": [],
   "source": [
    "\n"
   ],
   "metadata": {
    "collapsed": false,
    "pycharm": {
     "name": "#%%\n"
    }
   }
  }
 ],
 "metadata": {
  "kernelspec": {
   "display_name": "Python 3",
   "language": "python",
   "name": "python3"
  },
  "language_info": {
   "codemirror_mode": {
    "name": "ipython",
    "version": 2
   },
   "file_extension": ".py",
   "mimetype": "text/x-python",
   "name": "python",
   "nbconvert_exporter": "python",
   "pygments_lexer": "ipython2",
   "version": "2.7.6"
  }
 },
 "nbformat": 4,
 "nbformat_minor": 0
}