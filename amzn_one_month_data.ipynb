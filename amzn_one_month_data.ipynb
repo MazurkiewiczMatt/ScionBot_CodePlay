{
 "cells": [
  {
   "cell_type": "code",
   "execution_count": 3,
   "metadata": {
    "collapsed": true
   },
   "outputs": [],
   "source": [
    "\"\"\"\n",
    "Created on 17/10/2020\n",
    "\n",
    "@author: Kamil Iwanowski\n",
    "\"\"\"\n",
    "import utility\n",
    "from web_scraper import get_comments\n",
    "import pandas as pd\n",
    "import numpy\n",
    "import datetime\n",
    "from dictionary_sentiment_analysis import vectorized_sentiment_check\n",
    "from monkeylearn import MonkeyLearn\n",
    "ml = MonkeyLearn('f4bbf60d362e38d5897af58b0500519959783001')\n",
    "model_id = \"cl_pi3C7JiL\"\n",
    "\n",
    "keywords = {\"msft\": [\"msft\", \"microsoft\", \"gates\"], \"tsla\": [\"tsla\", \"tesla\", \"musk\"],\n",
    "            \"aapl\": [\"aapl\", \"apple\", \"cook\"], \"fb\": [\"fb\", \"facebook\", \"zuckerberg\"],\n",
    "            \"amzn\": [\"amzn\", \"amazon\", \"bezos\"], \"googl\": [\"googl\", \"google\", \"alphabet\", \"pichai\"]}\n",
    "\n",
    "settings_file = utility.read_settings(\"amzn_settings.txt\")\n",
    "[company, start_date, end_date, subreddits] = settings_file"
   ]
  },
  {
   "cell_type": "code",
   "execution_count": 5,
   "outputs": [
    {
     "name": "stdout",
     "output_type": "stream",
     "text": [
      "Checking on 2020-09-16\n",
      "Checking on 2020-09-17\n",
      "Checking on 2020-09-18\n",
      "Checking on 2020-09-19\n",
      "Checking on 2020-09-20\n",
      "Checking on 2020-09-21\n",
      "Checking on 2020-09-22\n",
      "Checking on 2020-09-23\n",
      "Checking on 2020-09-24\n",
      "Checking on 2020-09-25\n",
      "Checking on 2020-09-26\n",
      "Checking on 2020-09-27\n",
      "Checking on 2020-09-28\n",
      "Checking on 2020-09-29\n",
      "Checking on 2020-09-30\n",
      "Checking on 2020-10-01\n",
      "Checking on 2020-10-02\n",
      "Checking on 2020-10-03\n",
      "Checking on 2020-10-04\n",
      "Checking on 2020-10-05\n",
      "Checking on 2020-10-06\n",
      "Checking on 2020-10-07\n",
      "Checking on 2020-10-08\n",
      "Checking on 2020-10-09\n",
      "Checking on 2020-10-10\n",
      "Checking on 2020-10-11\n",
      "Checking on 2020-10-12\n",
      "Checking on 2020-10-13\n",
      "Checking on 2020-10-14\n",
      "Checking on 2020-10-15\n",
      "Checking on 2020-10-16\n"
     ]
    }
   ],
   "source": [
    "# main program, downloads data using reddit API\n",
    "comments = pd.DataFrame()\n",
    "for single_date in utility.daterange(start_date, end_date):\n",
    "    print(\"Checking on \" + str(single_date))\n",
    "    for subreddit in subreddits:\n",
    "        try:\n",
    "            new_data = get_comments(subreddit, single_date, single_date+datetime.timedelta(days=1), keywords[company])\n",
    "            comments = comments.append(new_data)\n",
    "        except:\n",
    "            continue\n",
    "\n",
    "\n",
    "# saves the data if something went wrong, since downloading data is a very long process\n",
    "comments.to_csv(\"datasets/\"+ str(company) + \"_one_month_data.csv\")"
   ],
   "metadata": {
    "collapsed": false,
    "pycharm": {
     "name": "#%%\n"
    }
   }
  },
  {
   "cell_type": "code",
   "execution_count": 6,
   "outputs": [
    {
     "ename": "PlanQueryLimitError",
     "evalue": "Error PLAN_QUERY_LIMIT: Request Throttled. You do not have enough queries left to perform this action. 200 queries are required, but you have 123 queries remaining.",
     "output_type": "error",
     "traceback": [
      "\u001B[1;31m---------------------------------------------------------------------------\u001B[0m",
      "\u001B[1;31mPlanQueryLimitError\u001B[0m                       Traceback (most recent call last)",
      "\u001B[1;32m<ipython-input-6-13309836f25f>\u001B[0m in \u001B[0;36m<module>\u001B[1;34m\u001B[0m\n\u001B[0;32m      4\u001B[0m \u001B[1;33m\u001B[0m\u001B[0m\n\u001B[0;32m      5\u001B[0m \u001B[1;31m# Data analysis using Monkey Learn API\u001B[0m\u001B[1;33m\u001B[0m\u001B[1;33m\u001B[0m\u001B[1;33m\u001B[0m\u001B[0m\n\u001B[1;32m----> 6\u001B[1;33m \u001B[0mresponse\u001B[0m \u001B[1;33m=\u001B[0m \u001B[0mml\u001B[0m\u001B[1;33m.\u001B[0m\u001B[0mclassifiers\u001B[0m\u001B[1;33m.\u001B[0m\u001B[0mclassify\u001B[0m\u001B[1;33m(\u001B[0m\u001B[0mmodel_id\u001B[0m\u001B[1;33m,\u001B[0m \u001B[0mdata\u001B[0m\u001B[1;33m)\u001B[0m\u001B[1;33m\u001B[0m\u001B[1;33m\u001B[0m\u001B[0m\n\u001B[0m\u001B[0;32m      7\u001B[0m \u001B[0mcompany_data\u001B[0m\u001B[1;33m[\u001B[0m\u001B[1;34m\"Tag\"\u001B[0m\u001B[1;33m]\u001B[0m\u001B[1;33m,\u001B[0m \u001B[0mcompany_data\u001B[0m\u001B[1;33m[\u001B[0m\u001B[1;34m\"Classifier\"\u001B[0m\u001B[1;33m]\u001B[0m \u001B[1;33m=\u001B[0m \u001B[0mutility\u001B[0m\u001B[1;33m.\u001B[0m\u001B[0mextract_classification\u001B[0m\u001B[1;33m(\u001B[0m\u001B[0mresponse\u001B[0m\u001B[1;33m.\u001B[0m\u001B[0mbody\u001B[0m\u001B[1;33m)\u001B[0m\u001B[1;33m\u001B[0m\u001B[1;33m\u001B[0m\u001B[0m\n\u001B[0;32m      8\u001B[0m \u001B[0mcompany_data\u001B[0m\u001B[1;33m[\u001B[0m\u001B[1;34m\"Dictionary_Tag\"\u001B[0m\u001B[1;33m]\u001B[0m \u001B[1;33m=\u001B[0m \u001B[0mvectorized_sentiment_check\u001B[0m\u001B[1;33m(\u001B[0m\u001B[0mcompany_data\u001B[0m\u001B[1;33m[\u001B[0m\u001B[1;34m\"Body\"\u001B[0m\u001B[1;33m]\u001B[0m\u001B[1;33m)\u001B[0m\u001B[1;33m\u001B[0m\u001B[1;33m\u001B[0m\u001B[0m\n",
      "\u001B[1;32mc:\\users\\lenovo\\appdata\\local\\programs\\python\\python38_jupyter\\lib\\site-packages\\monkeylearn\\classification.py\u001B[0m in \u001B[0;36mclassify\u001B[1;34m(self, model_id, data, production_model, batch_size, auto_batch, retry_if_throttled)\u001B[0m\n\u001B[0;32m    110\u001B[0m             raw_response = self.make_request('POST', url, data_dict,\n\u001B[0;32m    111\u001B[0m                                              retry_if_throttled=retry_if_throttled)\n\u001B[1;32m--> 112\u001B[1;33m             \u001B[0mresponse\u001B[0m\u001B[1;33m.\u001B[0m\u001B[0madd_raw_response\u001B[0m\u001B[1;33m(\u001B[0m\u001B[0mraw_response\u001B[0m\u001B[1;33m)\u001B[0m\u001B[1;33m\u001B[0m\u001B[1;33m\u001B[0m\u001B[0m\n\u001B[0m\u001B[0;32m    113\u001B[0m \u001B[1;33m\u001B[0m\u001B[0m\n\u001B[0;32m    114\u001B[0m         \u001B[1;32mreturn\u001B[0m \u001B[0mresponse\u001B[0m\u001B[1;33m\u001B[0m\u001B[1;33m\u001B[0m\u001B[0m\n",
      "\u001B[1;32mc:\\users\\lenovo\\appdata\\local\\programs\\python\\python38_jupyter\\lib\\site-packages\\monkeylearn\\response.py\u001B[0m in \u001B[0;36madd_raw_response\u001B[1;34m(self, raw_response)\u001B[0m\n\u001B[0;32m     74\u001B[0m         \u001B[0mself\u001B[0m\u001B[1;33m.\u001B[0m\u001B[0mraw_responses\u001B[0m\u001B[1;33m.\u001B[0m\u001B[0mappend\u001B[0m\u001B[1;33m(\u001B[0m\u001B[0mraw_response\u001B[0m\u001B[1;33m)\u001B[0m\u001B[1;33m\u001B[0m\u001B[1;33m\u001B[0m\u001B[0m\n\u001B[0;32m     75\u001B[0m         \u001B[1;32mif\u001B[0m \u001B[0mraw_response\u001B[0m\u001B[1;33m.\u001B[0m\u001B[0mstatus_code\u001B[0m \u001B[1;33m!=\u001B[0m \u001B[0mrequests\u001B[0m\u001B[1;33m.\u001B[0m\u001B[0mcodes\u001B[0m\u001B[1;33m.\u001B[0m\u001B[0mok\u001B[0m\u001B[1;33m:\u001B[0m\u001B[1;33m\u001B[0m\u001B[1;33m\u001B[0m\u001B[0m\n\u001B[1;32m---> 76\u001B[1;33m             \u001B[0mself\u001B[0m\u001B[1;33m.\u001B[0m\u001B[0mraise_for_status\u001B[0m\u001B[1;33m(\u001B[0m\u001B[0mraw_response\u001B[0m\u001B[1;33m)\u001B[0m\u001B[1;33m\u001B[0m\u001B[1;33m\u001B[0m\u001B[0m\n\u001B[0m\u001B[0;32m     77\u001B[0m \u001B[1;33m\u001B[0m\u001B[0m\n\u001B[0;32m     78\u001B[0m     \u001B[1;32mdef\u001B[0m \u001B[0mraise_for_status\u001B[0m\u001B[1;33m(\u001B[0m\u001B[0mself\u001B[0m\u001B[1;33m,\u001B[0m \u001B[0mraw_response\u001B[0m\u001B[1;33m)\u001B[0m\u001B[1;33m:\u001B[0m\u001B[1;33m\u001B[0m\u001B[1;33m\u001B[0m\u001B[0m\n",
      "\u001B[1;32mc:\\users\\lenovo\\appdata\\local\\programs\\python\\python38_jupyter\\lib\\site-packages\\monkeylearn\\response.py\u001B[0m in \u001B[0;36mraise_for_status\u001B[1;34m(self, raw_response)\u001B[0m\n\u001B[0;32m     95\u001B[0m             \u001B[0mexception_kwargs\u001B[0m\u001B[1;33m[\u001B[0m\u001B[1;34m'seconds_to_wait'\u001B[0m\u001B[1;33m]\u001B[0m \u001B[1;33m=\u001B[0m \u001B[0mseconds_to_wait\u001B[0m\u001B[1;33m\u001B[0m\u001B[1;33m\u001B[0m\u001B[0m\n\u001B[0;32m     96\u001B[0m \u001B[1;33m\u001B[0m\u001B[0m\n\u001B[1;32m---> 97\u001B[1;33m         \u001B[1;32mraise\u001B[0m \u001B[0mexception_class\u001B[0m\u001B[1;33m(\u001B[0m\u001B[1;33m**\u001B[0m\u001B[0mexception_kwargs\u001B[0m\u001B[1;33m)\u001B[0m\u001B[1;33m\u001B[0m\u001B[1;33m\u001B[0m\u001B[0m\n\u001B[0m",
      "\u001B[1;31mPlanQueryLimitError\u001B[0m: Error PLAN_QUERY_LIMIT: Request Throttled. You do not have enough queries left to perform this action. 200 queries are required, but you have 123 queries remaining."
     ]
    }
   ],
   "source": [
    "company_data = comments.reset_index()\n",
    "company_data = company_data.drop(columns=[\"index\"])\n",
    "data = company_data[\"Body\"].values.tolist()\n",
    "\n",
    "# Data analysis using Monkey Learn API\n",
    "response = ml.classifiers.classify(model_id, data)\n",
    "company_data[\"Tag\"], company_data[\"Classifier\"] = utility.extract_classification(response.body)\n",
    "company_data[\"Dictionary_Tag\"] = vectorized_sentiment_check(company_data[\"Body\"])\n",
    "\n",
    "# Saving the final result\n",
    "result = company_data.copy()\n",
    "result = result.drop(columns=[\"ID\", \"Author\", \"Body\"])\n",
    "result.to_csv(\"results/\" + str(company) + \"_result_one_month.csv\")\n"
   ],
   "metadata": {
    "collapsed": false,
    "pycharm": {
     "name": "#%%\n"
    }
   }
  }
 ],
 "metadata": {
  "kernelspec": {
   "display_name": "Python 3",
   "language": "python",
   "name": "python3"
  },
  "language_info": {
   "codemirror_mode": {
    "name": "ipython",
    "version": 2
   },
   "file_extension": ".py",
   "mimetype": "text/x-python",
   "name": "python",
   "nbconvert_exporter": "python",
   "pygments_lexer": "ipython2",
   "version": "2.7.6"
  }
 },
 "nbformat": 4,
 "nbformat_minor": 0
}